{
  "nbformat": 4,
  "nbformat_minor": 0,
  "metadata": {
    "celltoolbar": "Edit Metadata",
    "kernelspec": {
      "display_name": "Environment (virtualenv_base)",
      "language": "python",
      "name": "virtualenv_base"
    },
    "language_info": {
      "codemirror_mode": {
        "name": "ipython",
        "version": 3
      },
      "file_extension": ".py",
      "mimetype": "text/x-python",
      "name": "python",
      "nbconvert_exporter": "python",
      "pygments_lexer": "ipython3",
      "version": "3.6.9"
    },
    "toc": {
      "base_numbering": 1,
      "nav_menu": {},
      "number_sections": true,
      "sideBar": true,
      "skip_h1_title": false,
      "title_cell": "Table of Contents",
      "title_sidebar": "Contents",
      "toc_cell": false,
      "toc_position": {
        "height": "calc(100% - 180px)",
        "left": "10px",
        "top": "150px",
        "width": "165px"
      },
      "toc_section_display": true,
      "toc_window_display": true
    },
    "colab": {
      "name": "main_En.ipynb",
      "provenance": [],
      "collapsed_sections": []
    }
  },
  "cells": [
    {
      "cell_type": "markdown",
      "metadata": {
        "id": "BclaMZ3nX6zM"
      },
      "source": [
        "# Stomata detection & recording program"
      ]
    },
    {
      "cell_type": "code",
      "metadata": {
        "id": "G0VBltZmX903"
      },
      "source": [
        "#requirements\n",
        "#opencv, tensorflow\n",
        "#clone tensorflow models into the same directory as this ipynb notebook\n",
        "#ex dowonload through colab\n",
        "#!git clone https://github.com/tensorflow/models.git"
      ],
      "execution_count": null,
      "outputs": []
    },
    {
      "cell_type": "markdown",
      "metadata": {
        "deletable": false,
        "id": "xguw5VqEX6zN"
      },
      "source": [
        "### How to run\n",
        "Activate the cell below by clicking somewhere in the cell, then run by clicking [▶︎Run] (or pressing Shift+Enter key). Wait for \"ln [ * ]\" leftside of the cell to change into \"ln [1]\" or other number in [ ]. At the same time, top right environment(virtualenv_base)[○] sign will change into [●]. It may take a minute."
      ]
    },
    {
      "cell_type": "code",
      "metadata": {
        "deletable": false,
        "editable": false,
        "id": "uR3MS4pwX6zN"
      },
      "source": [
        "import warnings\n",
        "warnings.filterwarnings('ignore')\n",
        "import cv2\n",
        "import tensorflow as tf\n",
        "import time\n",
        "import numpy as np\n",
        "import matplotlib.pyplot as plt\n",
        "import os, sys\n",
        "%matplotlib inline\n",
        "import pme\n",
        "\n",
        "sys.path.append(\"models/research/\")\n",
        "sys.path.append(\"models/research/slim\")\n",
        "from object_detection.utils import label_map_util\n",
        "from object_detection.utils import visualization_utils as viz_utils\n",
        "from object_detection.protos.string_int_label_map_pb2 import StringIntLabelMap, StringIntLabelMapItem\n",
        "\n",
        "from tensorflow.keras.preprocessing.image import img_to_array, load_img\n",
        "from IPython.display import Image, display, clear_output\n",
        "\n",
        "from google.protobuf import text_format\n",
        "\n",
        "\n",
        "\n",
        "category_index = label_map_util.create_category_index_from_labelmap(\"labelmap.pbtxt\",\n",
        "                                                                    use_display_name=True)\n",
        "\n",
        "PATH_TO_SAVED_MODEL = \"saved_model\"\n",
        "detect_fn = tf.saved_model.load(PATH_TO_SAVED_MODEL)\n",
        "\n",
        "def draw_bboxes_and_return_meta(\n",
        "        image,\n",
        "        detections,\n",
        "        line_thickness=2,\n",
        "        min_score_thresh=.3,\n",
        "        COLOR='LimeGreen'):\n",
        "    global dets\n",
        "    dets = [[x, z] for x, y, z in zip(detections[\"detection_boxes\"], detections[\"detection_classes\"],\n",
        "                                      detections[\"detection_scores\"]) if y == 1 and z > min_score_thresh]\n",
        "    if len(dets)!=0:\n",
        "        dets.sort(key=lambda r: r[0][0])\n",
        "        dets = [[i, *x] for i, x in enumerate(dets)]\n",
        "        dets = np.array(dets)\n",
        "        height, width = image.shape[0], image.shape[1]\n",
        "        dets[:,1] = [[a*height,b*width,c*height,d*width] for a,b,c,d in dets[:,1]]   \n",
        "\n",
        "        for det in dets:\n",
        "            box = det[1]\n",
        "            ymin, xmin, ymax, xmax = box\n",
        "\n",
        "            x = (xmin+xmax)//2\n",
        "            y = (ymin+ymax)//2\n",
        "            string = '{}:{:.2g}% '.format(det[0],round(100*det[2]))\n",
        "\n",
        "            viz_utils.draw_bounding_box_on_image_array(\n",
        "                image,\n",
        "                ymin,\n",
        "                xmin,\n",
        "                ymax,\n",
        "                xmax,\n",
        "                color=COLOR,\n",
        "                thickness=line_thickness,\n",
        "                display_str_list=[string],\n",
        "                use_normalized_coordinates=False)\n",
        "\n",
        "    return image, dets\n",
        "\n",
        "def pipeline_func(image):\n",
        "    image_np = cv2.cvtColor(image,cv2.COLOR_BGR2GRAY)\n",
        "    gray = image_np.copy()\n",
        "    image_np = cv2.cvtColor(image_np,cv2.COLOR_GRAY2RGB)\n",
        "    input_tensor = tf.convert_to_tensor(image_np)\n",
        "    input_tensor = input_tensor[tf.newaxis, ...]\n",
        "    detections = detect_fn(input_tensor)\n",
        "    num_detections = int(detections.pop('num_detections'))\n",
        "    detections = {key: value[0, :num_detections].numpy()\n",
        "                   for key, value in detections.items()}\n",
        "    detections['num_detections'] = num_detections\n",
        "    detections['detection_classes'] = detections['detection_classes'].astype(np.int64)\n",
        "    image_np, dets = draw_bboxes_and_return_meta(\n",
        "        image_np,\n",
        "        detections,\n",
        "        line_thickness = 4,\n",
        "        min_score_thresh=.40)    \n",
        "    \n",
        "    nobj = 0 if len(dets) ==0 else len(dets[:,0])\n",
        "\n",
        "    s = []\n",
        "    \n",
        "    for det in dets:\n",
        "        idx,box,score = det\n",
        "        ymin, xmin, ymax, xmax = box\n",
        "        x = (xmin+xmax)//2\n",
        "        y = (ymin+ymax)//2\n",
        "        height = ymax - ymin\n",
        "        width = xmax - xmin\n",
        "        s.append([idx,score,y,x,height,width, *box])\n",
        "    \n",
        "    ret = {\n",
        "        \"images\": [gray,cv2.cvtColor(image_np,cv2.COLOR_RGB2BGR)],\n",
        "        \"stream_logs\": \"number of stomata:\" + str(nobj),\n",
        "        \"csv_logs\": s,\n",
        "        \"csv_header\": [\"stomata_id\",\"score\", \"ycoord\", \"xcoord\", \"height\", \"width\",\"bbox_ymin\",\"bbox_xmin\",\"bbox_ymax\",\"bbox_xmax\"]        \n",
        "    }\n",
        "    return ret"
      ],
      "execution_count": null,
      "outputs": []
    },
    {
      "cell_type": "markdown",
      "metadata": {
        "id": "sfpHXBgzX6zP"
      },
      "source": [
        "## GUI program"
      ]
    },
    {
      "cell_type": "markdown",
      "metadata": {
        "id": "uu35jCIQX6zP"
      },
      "source": [
        "Run the cell below to start GUI for monitoring and acquisition of the camera images. It may take 10 - 20 sec to  start.\n",
        "You can run it even before cell1 above become completed. That case, cell below will be run after the cell above completed."
      ]
    },
    {
      "cell_type": "code",
      "metadata": {
        "scrolled": false,
        "colab": {
          "referenced_widgets": [
            "1ffd17aada9446d28d67707f1edf3671"
          ]
        },
        "id": "5cJUmYZzX6zP",
        "outputId": "2fefac5d-23cd-449d-8808-d2899190cd4d"
      },
      "source": [
        "_ = pme.stream(\n",
        "    pipeline_func=pipeline_func,\n",
        "    output_directory = None,\n",
        "    camera_id=0, videocapture_api_backend=200,\n",
        "    camera_initial_settings={'format': ['M', 'J', 'P', 'G'], 'height': 768, 'width': 1024, 'fps': 30})"
      ],
      "execution_count": null,
      "outputs": [
        {
          "output_type": "stream",
          "text": [
            "- images will be saved to /home/phytometrics/Desktop/microscope/data\n",
            "- csv_logs will be written to /home/phytometrics/Desktop/microscope/data/20200904_134537.csv\n"
          ],
          "name": "stdout"
        },
        {
          "output_type": "display_data",
          "data": {
            "application/vnd.jupyter.widget-view+json": {
              "model_id": "1ffd17aada9446d28d67707f1edf3671",
              "version_major": 2,
              "version_minor": 0
            },
            "text/plain": [
              "VBox(children=(ToggleButtons(index=2, options=('exit', 'disconnect', 'pause', 'connect'), value='pause'), Butt…"
            ]
          },
          "metadata": {
            "tags": []
          }
        }
      ]
    },
    {
      "cell_type": "markdown",
      "metadata": {
        "id": "6QjKLzcEX6zQ"
      },
      "source": [
        "### The arguments for pme.stream\n",
        "- pipeline_func : image processing function\n",
        "- output_directory: the directory to save csv files and image files. If there is no argument or \"None\", saved  in \"/home/phytometrics/Desktop/microscope/data\" as default. \n",
        "- camera_id: camera ID number. if there is only one camera connected, 0 is default.\n",
        "- videocapture_api_backend: v4l2 connection. DO NOT EDIT. For developer only!\n",
        "- camera_initial_settings: camera settings for image format, size and frame rate. Edit only when you connect a new camera. DO NOT EDIT otherwise."
      ]
    },
    {
      "cell_type": "code",
      "metadata": {
        "id": "EylVbsywX6zR",
        "outputId": "de29a738-3134-493d-b6b1-8b839620a261"
      },
      "source": [
        "#To know the directory name of the USB memory inserted, run this command.\n",
        "!ls /media/phytometrics   #ex. XXXX-XXXX -> set output_directory as \"/media/XXXX-XXXX/data\" if you want to save the files in the USB memory."
      ],
      "execution_count": null,
      "outputs": [
        {
          "output_type": "stream",
          "text": [
            "6011-44C3\r\n"
          ],
          "name": "stdout"
        }
      ]
    },
    {
      "cell_type": "markdown",
      "metadata": {
        "id": "wIYDZxe7X6zR"
      },
      "source": [
        "## contents in GUI window\n",
        "- images will be saved to ..., csv_logs will be written to\n",
        "    - A directory where the acquired images and the csv file are saved. The name of csv file is a timestamp when you run the cell.\n",
        "- Connect\n",
        "    - start connection to the usb camera.\n",
        "- Pause\n",
        "    - stop the input from the camera tentatively. When you switch from “Connect” to “Pause”, camera will be still active, so can quickly become back to “Connect”. However, if you would like to do other tasks for a while, “disconnect” is recommended because “Pause” continues  to make a certain load onto the computer.\n",
        "- disconnect\n",
        "    - Disconnect the camera. It can become back to “Connect” and save data into the same directory and csv file.\n",
        "- exit\n",
        "    - Finish the program. After this, you can start another round of observation by running the cell again.\n",
        "- acquire image\n",
        "    - Save the current image. If it is “Pause” mode, the image being displayed will be saved. When “enable image analysis pipeline” (see below) is checked, the grayscale image (analysis input) and stomata-marked image (analysis output) are also saved, and stomatal data are written into the csv.\n",
        "- Enable image analysis pipeline\n",
        "    - Apply the stomata detection program. When it is checked, the grayscale image (analysis input) and stomata-marked image (analysis output) are displayed.\n",
        "- Display Stream Logs\n",
        "    - Display the detected stomatal number.\n",
        "- Hide Input\n",
        "    - Switch ON/OFF of camera input which is an RGB color image. Regardless of checked or not, the camera input image will be saved after you press “acquire image” button.\n",
        "    \n",
        "## precautions\n",
        "- The application may freeze by trying reconnection when the camera connection is already active. If you would like to rerun the cell, do it after inactivate camera connection by press “disconnect” or “exit”.\n",
        "- In the case the application has become frozen, click the interrupt button [■] (upper part in the window), choose Restart from Kernel drop-down list (just above [■]), and reload the page by the browser’s command. These procedures will refresh the page."
      ]
    },
    {
      "cell_type": "markdown",
      "metadata": {
        "id": "flNtyRG-X6zT"
      },
      "source": [
        "### To analyze images you already have, do below."
      ]
    },
    {
      "cell_type": "code",
      "metadata": {
        "id": "bNLuzfFdX6zT"
      },
      "source": [
        "import csv\n",
        "\n",
        "DIRECTORY = \"samples\" #saving directory\n",
        "files = os.listdir(DIRECTORY)\n",
        "print(files) #the images to be analyzed"
      ],
      "execution_count": null,
      "outputs": []
    },
    {
      "cell_type": "code",
      "metadata": {
        "scrolled": false,
        "id": "NR8Yx07xX6zU"
      },
      "source": [
        "##analyze only a image file\n",
        "\n",
        "file = files[0]\n",
        "path = os.path.join(DIRECTORY,file) #image path\n",
        "image = cv2.imread(path)  #load the image\n",
        "ret = pipeline_func(image)  #analysis by the network\n",
        "##pipeline_func outputs:\n",
        "##dictionary. key consists of images, stream_logs, csv_logs, csv_header. Only images and csv_logs are processed.\n",
        "\n",
        "##To display the image, remove hash symbols below and run.\n",
        "#gray, annotated = ret[\"images\"]\n",
        "#plt.imshow(gray,cmap=\"gray\")\n",
        "#plt.show()\n",
        "#plt.imshow(annotated)\n",
        "#plt.show()\n",
        "\n",
        "##To save the csv file, remove hash symbols below and run.\n",
        "#name_of_csv = \"test.csv\"\n",
        "#header = [\"stomata_id\",\"score\", \"ycoord\", \"xcoord\", \"height\", \"width\",\"bbox_ymin\",\"bbox_xmin\",\"bbox_ymax\",\"bbox_xmax\"] \n",
        "#with open(name_of_csv, \"a\") as f: #adding mode\n",
        "#        writer = csv.writer(f, lineterminator='\\n')\n",
        "#        writer.writerow(header) #write header\n",
        "#        for stomata in ret[\"csv_logs\"]: #stomatal data\n",
        "#                s = [file, *stomata] #image file name and stomatal data\n",
        "#                writer.writerow(s)\n",
        "\n",
        "##To save the image, remove hash symbols below and run.\n",
        "#cv2.imsave(\"test.jpg\",gray)\n",
        "#cv2.imsave(\"test2.jpg\",gray)"
      ],
      "execution_count": null,
      "outputs": []
    },
    {
      "cell_type": "code",
      "metadata": {
        "id": "JqBG0UtMX6zU"
      },
      "source": [
        "##analyze all files in a directory\n",
        "\n",
        "##csv header is located out of the loop for \"file\"\n",
        "#name_of_csv = \"test.csv\"\n",
        "#header = [\"stomata_id\",\"score\", \"ycoord\", \"xcoord\", \"height\", \"width\",\"bbox_ymin\",\"bbox_xmin\",\"bbox_ymax\",\"bbox_xmax\"] \n",
        "#with open(name_of_csv, \"a\") as f: #adding mode\n",
        "#        writer = csv.writer(f, lineterminator='\\n')\n",
        "#        writer.writerow(header) #write header\n",
        "\n",
        "for file in files:\n",
        "    print(file, end=\" \")\n",
        "    path = os.path.join(DIRECTORY,file)\n",
        "    image = cv2.imread(path) \n",
        "    ret = pipeline_func(image) \n",
        "    \n",
        "    ##below is to save csv\n",
        "    #with open(name_of_csv, \"a\") as f:  \n",
        "    #        writer = csv.writer(f, lineterminator='\\n')\n",
        "    #        for stomata in ret[\"csv_logs\"]:\n",
        "    #                s = [file, *stomata] \n",
        "    #                writer.writerow(s)\n",
        "    \n",
        "    ##To save the image, run below. Here is a case the image file is xxxxx.jpg\n",
        "    #base = os.path.splitext(file)　#get the file name xxxxx\n",
        "    #gray_file_name = base +\"_gray.jpg\" #additional characters for grayscale image name. \n",
        "    ##you can save the image by cv2.imsave function"
      ],
      "execution_count": null,
      "outputs": []
    },
    {
      "cell_type": "code",
      "metadata": {
        "id": "Hdx9R6LzX6zU"
      },
      "source": [
        "## In case the resolution is so high that the detection is not effective,\n",
        "## adjust the image size before analysis. You can resize as below or with other software.\n",
        "\n",
        "## define the absolute size\n",
        "#size = (768,1024)\n",
        "#image = cv2.resize(image, size)\n",
        "\n",
        "##define the size ratio. Below is 1/2.\n",
        "#image = cv2.resize(image,None, fx=1/2,fy=1/2)\n",
        "\n",
        "##then, you can analyze it like “ret = pipline_func(image)”"
      ],
      "execution_count": null,
      "outputs": []
    },
    {
      "cell_type": "markdown",
      "metadata": {
        "id": "x5RO6MxsX6zV"
      },
      "source": [
        "## Terminal commands to download the files and directories from the Jetson nano\n",
        "\n",
        "\n",
        "directory download:\n",
        "\n",
        "$ scp jetson@192.168.55.1:/home/phytometrics/Desktop/microscope/data/XXXX.jpg \"a directory in your computer\"/data\n",
        "\n",
        "file download:\n",
        "\n",
        "$ scp jetson@192.168.55.1:/home/phytometrics/Desktop/microscope/data/XXXX.jpg \"a directory in your computer\"/xxxx.jpg\n",
        "\n",
        "You will be requested for a password for the Jetson nano."
      ]
    },
    {
      "cell_type": "code",
      "metadata": {
        "id": "WwXC3ui0X6zV"
      },
      "source": [
        ""
      ],
      "execution_count": null,
      "outputs": []
    }
  ]
}